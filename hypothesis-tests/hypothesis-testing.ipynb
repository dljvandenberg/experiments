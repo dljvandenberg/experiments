{
 "cells": [
  {
   "cell_type": "markdown",
   "metadata": {},
   "source": [
    "# Hypothesis testing"
   ]
  },
  {
   "cell_type": "markdown",
   "metadata": {},
   "source": [
    "We have two populations X1 and X2, each of which we take a sample of (size n for X1, m for for X2).\n",
    "\n",
    "We want to test whether their population means are significantly different.\n",
    "\n",
    "**Hypotheses (two-sided):**\n",
    "\n",
    "- H_0: mu_X1-X2 = 0\n",
    "- H_1: mu_X1-X2 != 0\n",
    "\n",
    "**Assuming:**\n",
    "\n",
    "- unknown distributions X1, X2\n",
    "- sigma_X1 not necessarily equal to sigma_X2"
   ]
  },
  {
   "cell_type": "markdown",
   "metadata": {},
   "source": [
    "## Define functions"
   ]
  },
  {
   "cell_type": "code",
   "execution_count": 1,
   "metadata": {
    "ExecuteTime": {
     "end_time": "2019-06-21T18:24:49.965026Z",
     "start_time": "2019-06-21T18:24:49.674118Z"
    }
   },
   "outputs": [],
   "source": [
    "import numpy as np\n",
    "from hypothesis import *"
   ]
  },
  {
   "cell_type": "markdown",
   "metadata": {},
   "source": [
    "## Inputs\n",
    "\n",
    "We know:\n",
    "- list of samples for X1: X1_sample\n",
    "- list of samples for X2: X2_sample\n",
    "- confidence level: alpha"
   ]
  },
  {
   "cell_type": "code",
   "execution_count": 2,
   "metadata": {
    "ExecuteTime": {
     "end_time": "2019-06-21T18:24:49.970606Z",
     "start_time": "2019-06-21T18:24:49.967129Z"
    }
   },
   "outputs": [],
   "source": [
    "X1_sample = np.array([1.1, 5.22, 8.25, 3.00, 3.39, 3.89, 2.2, 1])\n",
    "X2_sample = np.array([5.01, 5.73, 4.99, 8.83, 9.93])\n",
    "p = 0.95"
   ]
  },
  {
   "cell_type": "markdown",
   "metadata": {},
   "source": [
    "## Calculations\n",
    "\n",
    "### Sample statistics and difference of sample means\n",
    "\n",
    "We derive:\n",
    "- sample sizes n, m\n",
    "- sample means X1bar, X2bar\n",
    "- sample standard deviations s_X1, s_X2\n",
    "- difference of sample means (statistic of interest!)"
   ]
  },
  {
   "cell_type": "code",
   "execution_count": 3,
   "metadata": {
    "ExecuteTime": {
     "end_time": "2019-06-21T18:24:49.977749Z",
     "start_time": "2019-06-21T18:24:49.972998Z"
    }
   },
   "outputs": [
    {
     "name": "stdout",
     "output_type": "stream",
     "text": [
      "Difference in sample means: -3.391750\n"
     ]
    }
   ],
   "source": [
    "# Sample sizes, sample means, sample standard deviations\n",
    "n, X1bar, s_X1 = sample_statistics(X1_sample)\n",
    "m, X2bar, s_X2 = sample_statistics(X2_sample)\n",
    "\n",
    "# Statistic of interest: difference of sample means\n",
    "Xmeandifference = X1bar - X2bar\n",
    "print(\"Difference in sample means: {:f}\".format(Xmeandifference))"
   ]
  },
  {
   "cell_type": "markdown",
   "metadata": {},
   "source": [
    "### Sampling distribution of sampling means\n",
    "\n",
    "We are interested in the distribution of $\\bar{X_1}-\\bar{X_2}$, i.e. the sampling distribution of differences in sample means.\n",
    "\n",
    "Under the null hypothesis we have:\n",
    "\n",
    "- Mean of the difference of the sampling means:\n",
    "$$\\mu_{\\bar{X_1}-\\bar{X_2}} = 0$$\n",
    "\n",
    "- Standard deviation of the difference of the sampling means:\n",
    "$${\\sigma_{\\bar{X_1}-\\bar{X_2}}^2} = {\\sigma_{\\bar{X_1}}^2} + {\\sigma_{\\bar{X_2}}^2} = \\frac{\\sigma_{X_1}^2}{n} + \\frac{\\sigma_{X_2}^2}{m} \\approx \\frac{s_{X_1}^2}{n} + \\frac{s_{X_2}^2}{m} $$\n",
    "\n",
    "In the last step we estimated $\\sigma_{X_1}$, $\\sigma_{X_2}$ to be approximately equal to the sample standard deviations $s_{X_1}$, $s_{X_2}$. This is because we don't know their actual values."
   ]
  },
  {
   "cell_type": "code",
   "execution_count": 4,
   "metadata": {
    "ExecuteTime": {
     "end_time": "2019-06-21T18:24:49.983795Z",
     "start_time": "2019-06-21T18:24:49.979471Z"
    }
   },
   "outputs": [
    {
     "name": "stdout",
     "output_type": "stream",
     "text": [
      "Standard deviation of distribution of difference in sample means: 1.335106\n"
     ]
    }
   ],
   "source": [
    "std_Xmeandifference = np.sqrt(s_X1**2 / n + s_X2**2 / m)\n",
    "std_Xmeandifference\n",
    "\n",
    "print(\"Standard deviation of distribution of difference in sample means: {:f}\".format(std_Xmeandifference))"
   ]
  },
  {
   "cell_type": "markdown",
   "metadata": {},
   "source": [
    "### Question\n",
    "\n",
    "What is the probability of getting this sample value of $X_1-X_2$ under the null hypothesis?"
   ]
  },
  {
   "cell_type": "code",
   "execution_count": 5,
   "metadata": {
    "ExecuteTime": {
     "end_time": "2019-06-21T18:24:49.988488Z",
     "start_time": "2019-06-21T18:24:49.985357Z"
    }
   },
   "outputs": [
    {
     "name": "stdout",
     "output_type": "stream",
     "text": [
      "t-statistic: -2.540435\n"
     ]
    }
   ],
   "source": [
    "t_statistic = Xmeandifference / std_Xmeandifference\n",
    "print(\"t-statistic: {:f}\".format(t_statistic))"
   ]
  },
  {
   "cell_type": "markdown",
   "metadata": {},
   "source": [
    "### Critial z/t-score\n",
    "\n",
    "In order to determine this we need to calculate the critical t-score (or z-score in case of large sample sizes)."
   ]
  },
  {
   "cell_type": "code",
   "execution_count": 6,
   "metadata": {
    "ExecuteTime": {
     "end_time": "2019-06-21T18:24:49.994883Z",
     "start_time": "2019-06-21T18:24:49.990106Z"
    }
   },
   "outputs": [
    {
     "name": "stdout",
     "output_type": "stream",
     "text": [
      "Critical t-score: 2.178813\n"
     ]
    }
   ],
   "source": [
    "# Get critical t-score (or z-score) from confidence level alpha\n",
    "t_crit = tscore_critical(p=p, degrees=n+m-1, twosided=True)\n",
    "print(\"Critical t-score: {:f}\".format(t_crit))"
   ]
  },
  {
   "cell_type": "markdown",
   "metadata": {},
   "source": [
    "## Single function to check hypothesis"
   ]
  },
  {
   "cell_type": "code",
   "execution_count": 7,
   "metadata": {
    "ExecuteTime": {
     "end_time": "2019-06-21T18:24:50.016021Z",
     "start_time": "2019-06-21T18:24:49.996898Z"
    }
   },
   "outputs": [
    {
     "name": "stdout",
     "output_type": "stream",
     "text": [
      "Sample sizes: 8, 5\n",
      "Sample means: 3.506, 6.898\n",
      "Sample standard deviations: 2.38, 2.318\n",
      "Difference in sample means: -3.392\n",
      "Standard deviation of distribution of difference in sample means: 1.335\n",
      "t-statistic: -2.54\n",
      "Critical t-score: 2.179\n",
      "Null hypothesis REJECTED\n"
     ]
    },
    {
     "data": {
      "text/plain": [
       "False"
      ]
     },
     "execution_count": 7,
     "metadata": {},
     "output_type": "execute_result"
    }
   ],
   "source": [
    "def check_null_hypothesis_twosided (X1_sample, X2_sample):\n",
    "    # Sample sizes, sample means, sample standard deviations\n",
    "    n, X1bar, s_X1 = sample_statistics(X1_sample)\n",
    "    m, X2bar, s_X2 = sample_statistics(X2_sample)\n",
    "    print(\"Sample sizes: {}, {}\".format(n, m))\n",
    "    print(\"Sample means: {:.4n}, {:.4n}\".format(X1bar, X2bar))\n",
    "    print(\"Sample standard deviations: {:.4n}, {:.4n}\".format(s_X1, s_X2))\n",
    "\n",
    "    # Statistic of interest: difference of sample means\n",
    "    Xmeandifference = X1bar - X2bar\n",
    "    print(\"Difference in sample means: {:.4n}\".format(Xmeandifference))\n",
    "    \n",
    "    # Standard deviation of sample mean difference\n",
    "    std_Xmeandifference = np.sqrt(s_X1**2 / n + s_X2**2 / m)\n",
    "    std_Xmeandifference\n",
    "    print(\"Standard deviation of distribution of difference in sample means: {:.4n}\".format(std_Xmeandifference))\n",
    "    \n",
    "    # Determine t-statistic\n",
    "    t_statistic = Xmeandifference / std_Xmeandifference\n",
    "    print(\"t-statistic: {:.4n}\".format(t_statistic))\n",
    "    \n",
    "    # Get critical t-score (or z-score) from confidence level alpha\n",
    "    t_crit = tscore_critical(p=p, degrees=n+m-1, twosided=True)\n",
    "    print(\"Critical t-score: {:.4n}\".format(t_crit))\n",
    "\n",
    "    # Check hypothesis\n",
    "    if (abs(t_statistic) > abs(t_crit)):\n",
    "        print(\"Null hypothesis REJECTED\")\n",
    "        return False\n",
    "    else:\n",
    "        print(\"Null hypothesis NOT rejected\")\n",
    "        return True\n",
    "    \n",
    "    \n",
    "check_null_hypothesis_twosided(X1_sample, X2_sample)"
   ]
  }
 ],
 "metadata": {
  "hide_input": false,
  "kernelspec": {
   "display_name": "Python 3",
   "language": "python",
   "name": "python3"
  },
  "language_info": {
   "codemirror_mode": {
    "name": "ipython",
    "version": 3
   },
   "file_extension": ".py",
   "mimetype": "text/x-python",
   "name": "python",
   "nbconvert_exporter": "python",
   "pygments_lexer": "ipython3",
   "version": "3.7.3"
  },
  "varInspector": {
   "cols": {
    "lenName": 16,
    "lenType": 16,
    "lenVar": 40
   },
   "kernels_config": {
    "python": {
     "delete_cmd_postfix": "",
     "delete_cmd_prefix": "del ",
     "library": "var_list.py",
     "varRefreshCmd": "print(var_dic_list())"
    },
    "r": {
     "delete_cmd_postfix": ") ",
     "delete_cmd_prefix": "rm(",
     "library": "var_list.r",
     "varRefreshCmd": "cat(var_dic_list()) "
    }
   },
   "types_to_exclude": [
    "module",
    "function",
    "builtin_function_or_method",
    "instance",
    "_Feature"
   ],
   "window_display": false
  }
 },
 "nbformat": 4,
 "nbformat_minor": 2
}
