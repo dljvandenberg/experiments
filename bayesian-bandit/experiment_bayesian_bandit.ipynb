{
 "cells": [
  {
   "cell_type": "markdown",
   "metadata": {},
   "source": [
    "# Experiment: Bayesian Bandit"
   ]
  },
  {
   "cell_type": "code",
   "execution_count": null,
   "metadata": {
    "ExecuteTime": {
     "end_time": "2020-01-12T13:55:53.634792Z",
     "start_time": "2020-01-12T13:55:53.623258Z"
    }
   },
   "outputs": [],
   "source": [
    "# From the course: Bayesin Machine Learning in Python: A/B Testing\n",
    "# https://deeplearningcourses.com/c/bayesian-machine-learning-in-python-ab-testing\n",
    "# https://www.udemy.com/bayesian-machine-learning-in-python-ab-testing"
   ]
  },
  {
   "cell_type": "code",
   "execution_count": null,
   "metadata": {
    "ExecuteTime": {
     "end_time": "2020-01-12T13:55:53.634792Z",
     "start_time": "2020-01-12T13:55:53.623258Z"
    }
   },
   "outputs": [],
   "source": [
    "from __future__ import print_function, division\n",
    "from builtins import range\n",
    "# Note: you may need to update your version of future\n",
    "# sudo pip install -U future\n",
    "\n",
    "\n",
    "import matplotlib.pyplot as plt\n",
    "import numpy as np\n",
    "from scipy.stats import beta\n",
    "\n",
    "\n",
    "NUM_TRIALS = 2000\n",
    "BANDIT_PROBABILITIES = [0.2, 0.5, 0.75]\n",
    "\n",
    "\n",
    "class Bandit(object):\n",
    "  def __init__(self, p):\n",
    "    self.p = p\n",
    "    self.a = 1\n",
    "    self.b = 1\n",
    "\n",
    "  def pull(self):\n",
    "    return np.random.random() < self.p\n",
    "\n",
    "  def sample(self):\n",
    "    return np.random.beta(self.a, self.b)\n",
    "\n",
    "  def update(self, x):\n",
    "    self.a += x\n",
    "    self.b += 1 - x\n",
    "\n",
    "\n",
    "def plot(bandits, trial):\n",
    "  x = np.linspace(0, 1, 200)\n",
    "  for b in bandits:\n",
    "    y = beta.pdf(x, b.a, b.b)\n",
    "    plt.plot(x, y, label=\"real p: %.4f\" % b.p)\n",
    "  plt.title(\"Bandit distributions after %s trials\" % trial)\n",
    "  plt.legend()\n",
    "  plt.show()\n",
    "\n",
    "\n",
    "def experiment():\n",
    "  bandits = [Bandit(p) for p in BANDIT_PROBABILITIES]\n",
    "\n",
    "  sample_points = [5,10,20,50,100,200,500,1000,1500,1999]\n",
    "  for i in range(NUM_TRIALS):\n",
    "\n",
    "    # take a sample from each bandit\n",
    "    bestb = None\n",
    "    maxsample = -1\n",
    "    allsamples = [] # let's collect these just to print for debugging\n",
    "    for b in bandits:\n",
    "      sample = b.sample()\n",
    "      allsamples.append(\"%.4f\" % sample)\n",
    "      if sample > maxsample:\n",
    "        maxsample = sample\n",
    "        bestb = b\n",
    "    if i in sample_points:\n",
    "      print(\"current samples: %s\" % allsamples)\n",
    "      plot(bandits, i)\n",
    "\n",
    "    # pull the arm for the bandit with the largest sample\n",
    "    x = bestb.pull()\n",
    "\n",
    "    # update the distribution for the bandit whose arm we just pulled\n",
    "    bestb.update(x)    "
   ]
  },
  {
   "cell_type": "code",
   "execution_count": null,
   "metadata": {
    "ExecuteTime": {
     "end_time": "2020-01-12T13:55:56.339651Z",
     "start_time": "2020-01-12T13:55:54.803893Z"
    }
   },
   "outputs": [],
   "source": [
    "experiment()"
   ]
  }
 ],
 "metadata": {
  "hide_input": false,
  "kernelspec": {
   "display_name": "Python 3",
   "language": "python",
   "name": "python3"
  },
  "language_info": {
   "codemirror_mode": {
    "name": "ipython",
    "version": 3
   },
   "file_extension": ".py",
   "mimetype": "text/x-python",
   "name": "python",
   "nbconvert_exporter": "python",
   "pygments_lexer": "ipython3",
   "version": "3.7.3"
  },
  "varInspector": {
   "cols": {
    "lenName": 16,
    "lenType": 16,
    "lenVar": 40
   },
   "kernels_config": {
    "python": {
     "delete_cmd_postfix": "",
     "delete_cmd_prefix": "del ",
     "library": "var_list.py",
     "varRefreshCmd": "print(var_dic_list())"
    },
    "r": {
     "delete_cmd_postfix": ") ",
     "delete_cmd_prefix": "rm(",
     "library": "var_list.r",
     "varRefreshCmd": "cat(var_dic_list()) "
    }
   },
   "types_to_exclude": [
    "module",
    "function",
    "builtin_function_or_method",
    "instance",
    "_Feature"
   ],
   "window_display": false
  }
 },
 "nbformat": 4,
 "nbformat_minor": 2
}
