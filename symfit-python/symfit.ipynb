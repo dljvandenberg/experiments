{
 "cells": [
  {
   "cell_type": "markdown",
   "metadata": {},
   "source": [
    "## Modeling: differential equations\n",
    "\n",
    "See https://pypi.org/project/symfit/"
   ]
  },
  {
   "cell_type": "code",
   "execution_count": 7,
   "metadata": {
    "ExecuteTime": {
     "end_time": "2019-06-10T11:09:22.774474Z",
     "start_time": "2019-06-10T11:09:22.713191Z"
    }
   },
   "outputs": [],
   "source": [
    "from symfit import variables, Parameter, ODEModel, Fit, D\n",
    "import numpy as np\n",
    "\n",
    "tdata = np.array([10, 26, 44, 70, 120])\n",
    "adata = 10e-4 * np.array([44, 34, 27, 20, 14])\n",
    "\n",
    "a, b, t = variables('a, b, t')\n",
    "k = Parameter('k', 0.1)\n",
    "\n",
    "model_dict = {\n",
    "    D(a, t): - k * a**2,\n",
    "    D(b, t): k * a**2,\n",
    "}\n",
    "\n",
    "ode_model = ODEModel(model_dict, initial={t: 0.0, a: 54 * 10e-4, b: 0.0})\n",
    "\n",
    "fit = Fit(ode_model, t=tdata, a=adata, b=None)\n",
    "fit_result = fit.execute()"
   ]
  },
  {
   "cell_type": "code",
   "execution_count": 8,
   "metadata": {
    "ExecuteTime": {
     "end_time": "2019-06-10T11:09:23.500414Z",
     "start_time": "2019-06-10T11:09:23.496563Z"
    }
   },
   "outputs": [
    {
     "name": "stdout",
     "output_type": "stream",
     "text": [
      "\n",
      "Parameter Value        Standard Deviation\n",
      "k         4.302875e-01 6.447055e-03\n",
      "Status message         Optimization terminated successfully.\n",
      "Number of iterations   10\n",
      "Objective              <symfit.core.objectives.LeastSquares object at 0x11276c400>\n",
      "Minimizer              <symfit.core.minimizers.BFGS object at 0x114e65d68>\n",
      "\n",
      "Goodness of fit qualifiers:\n",
      "chi_squared            6.136475440687139e-07\n",
      "objective_value        3.0682377203435694e-07\n",
      "r_squared              0.998889928465867\n"
     ]
    }
   ],
   "source": [
    "print(fit_result)"
   ]
  }
 ],
 "metadata": {
  "hide_input": false,
  "kernelspec": {
   "display_name": "Python 3",
   "language": "python",
   "name": "python3"
  },
  "language_info": {
   "codemirror_mode": {
    "name": "ipython",
    "version": 3
   },
   "file_extension": ".py",
   "mimetype": "text/x-python",
   "name": "python",
   "nbconvert_exporter": "python",
   "pygments_lexer": "ipython3",
   "version": "3.7.3"
  },
  "varInspector": {
   "cols": {
    "lenName": 16,
    "lenType": 16,
    "lenVar": 40
   },
   "kernels_config": {
    "python": {
     "delete_cmd_postfix": "",
     "delete_cmd_prefix": "del ",
     "library": "var_list.py",
     "varRefreshCmd": "print(var_dic_list())"
    },
    "r": {
     "delete_cmd_postfix": ") ",
     "delete_cmd_prefix": "rm(",
     "library": "var_list.r",
     "varRefreshCmd": "cat(var_dic_list()) "
    }
   },
   "types_to_exclude": [
    "module",
    "function",
    "builtin_function_or_method",
    "instance",
    "_Feature"
   ],
   "window_display": false
  }
 },
 "nbformat": 4,
 "nbformat_minor": 2
}
