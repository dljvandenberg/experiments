{
 "cells": [
  {
   "cell_type": "markdown",
   "metadata": {},
   "source": [
    "# Visualizing Realtime Traffic Data\n",
    "\n",
    "Assignment: Using the NDW data source below, write:\n",
    "\n",
    "1. a data retrieval function that automatically downloads, extracts and loads realtime data such as traffic accidents\n",
    "2. a data visualization function that displays the retrieved data on a map\n",
    "\n",
    "Data source: http://opendata.ndw.nu\n",
    "\n",
    "Note that this data source does not have an easy to use API and only provides zipped XML files containing the required data.\n"
   ]
  },
  {
   "cell_type": "markdown",
   "metadata": {},
   "source": [
    "## Libraries"
   ]
  },
  {
   "cell_type": "code",
   "execution_count": 1,
   "metadata": {
    "code_folding": [
     0
    ]
   },
   "outputs": [],
   "source": [
    "# Libraries\n",
    "import wget                                       # Download file\n",
    "import gzip                                       # Unzip\n",
    "import os                                         # File handling\n",
    "from bs4 import BeautifulSoup                     # Parsing xml\n",
    "import pandas as pd                               # DataFrames\n",
    "import geopandas as gpd                           # GeoDataFrames\n",
    "from geopandas import GeoDataFrame, GeoSeries     # Direct reference to geopandas objects\n",
    "from shapely.geometry import Point, LineString    # Direct reference to shapely objects\n",
    "import matplotlib.pyplot as plt                   # Plotting\n",
    "import mplleaflet                                 # Plotting on interactive map\n",
    "\n",
    "# Library settings\n",
    "%matplotlib inline\n",
    "pd.set_option(\"display.max_rows\",100)\n",
    "pd.set_option(\"display.max_columns\",100)"
   ]
  },
  {
   "cell_type": "markdown",
   "metadata": {},
   "source": [
    "## Functions"
   ]
  },
  {
   "cell_type": "code",
   "execution_count": 2,
   "metadata": {
    "code_folding": [
     0
    ]
   },
   "outputs": [],
   "source": [
    "# Functions\n",
    "\n",
    "def retrieve_data(url):\n",
    "    # Download\n",
    "    path = wget.download(url)\n",
    "\n",
    "    # Extract\n",
    "    file = gzip.open(path, 'rb')\n",
    "    content = file.read()\n",
    "    file.close()\n",
    "    \n",
    "    # Delete downloaded file\n",
    "    os.remove(path)\n",
    "    \n",
    "    return(content)\n",
    "\n",
    "\n",
    "def get_subtag_text(tag, subtag):\n",
    "    try:\n",
    "        text = tag.find(subtag).get_text()\n",
    "    except:\n",
    "        text = None\n",
    "    \n",
    "    return(text)\n",
    "\n",
    "\n",
    "def parse_incidents(content):\n",
    "    # Create BeautifulSoup object for parsing\n",
    "    bs_parser = BeautifulSoup(content, 'lxml-xml')\n",
    "    \n",
    "    # Create empty dataframe\n",
    "    df_incidents = pd.DataFrame()\n",
    "\n",
    "    # Loop over all situation records\n",
    "    records = bs_parser.find_all('situationRecord')\n",
    "    for record in records:\n",
    "        # Extract specific info\n",
    "        id = record.get('id')\n",
    "        longitude = get_subtag_text(record, 'longitude')\n",
    "        latitude = get_subtag_text(record, 'latitude')\n",
    "        creationtime = get_subtag_text(record, 'situationRecordCreationTime')\n",
    "        validitystatus = get_subtag_text(record, 'validityStatus')\n",
    "        starttime = get_subtag_text(record, 'overallStartTime')\n",
    "        direction = get_subtag_text(record, 'alertCDirectionCoded')\n",
    "        location = get_subtag_text(record, 'specificLocation')\n",
    "        offsetdistance = get_subtag_text(record, 'offsetDistance')\n",
    "        accidenttype = get_subtag_text(record, 'accidentType')\n",
    "            \n",
    "        # Append rows to dataframe\n",
    "        row = [{'id': id, 'longitude': longitude, 'latitude': latitude, 'creationtime': creationtime,\n",
    "                'validitystatus': validitystatus, 'starttime': starttime, \n",
    "                'direction': direction, 'location': location,\n",
    "                'offsetdistance': offsetdistance, 'accidenttype': accidenttype}]\n",
    "        df_incidents = df_incidents.append(row, ignore_index=True)\n",
    "        \n",
    "    # Type casting\n",
    "    df_incidents['creationtime'] = pd.to_datetime(df_incidents['creationtime'])\n",
    "    df_incidents['starttime'] = pd.to_datetime(df_incidents['starttime'])\n",
    "    df_incidents['longitude'] = df_incidents['longitude'].astype('float64')\n",
    "    df_incidents['latitude'] = df_incidents['latitude'].astype('float64')\n",
    "    df_incidents['offsetdistance'] = df_incidents['offsetdistance'].astype('float')\n",
    "    \n",
    "    # Data cleaning\n",
    "    df_incidents['accidenttype'] = df_incidents['accidenttype'].fillna('other')\n",
    "    \n",
    "    # Set dataframe index\n",
    "    df_incidents = df_incidents.set_index('id')\n",
    "    \n",
    "    # Add column with Point coordinates, convert to GeoDataFrame and drop original longitude/latitude cols\n",
    "    df_incidents['coordinates'] = list(zip(df_incidents['longitude'], df_incidents['latitude']))\n",
    "    df_incidents['coordinates'] = df_incidents['coordinates'].apply(Point)\n",
    "    gdf_incidents = GeoDataFrame(df_incidents, geometry='coordinates')\n",
    "    gdf_incidents = gdf_incidents.drop(['longitude', 'latitude'], axis=1)\n",
    "\n",
    "    return(gdf_incidents)\n",
    "\n",
    "\n",
    "\"\"\"\n",
    "Leaflet plot with zoomable map background\n",
    "\"\"\"\n",
    "def leaflet_plot(gdf, **args):\n",
    "    fig, ax = plt.subplots(figsize=(10, 10), subplot_kw={'aspect':'equal'})\n",
    "    plot = gdf_incidents.plot(ax=ax, **args)\n",
    "    leaflet = mplleaflet.display(fig=plot.figure)\n",
    "    \n",
    "    return(leaflet)"
   ]
  },
  {
   "cell_type": "markdown",
   "metadata": {},
   "source": [
    "## 1. Data Retrieval"
   ]
  },
  {
   "cell_type": "code",
   "execution_count": 3,
   "metadata": {},
   "outputs": [
    {
     "data": {
      "text/html": [
       "<div>\n",
       "<style scoped>\n",
       "    .dataframe tbody tr th:only-of-type {\n",
       "        vertical-align: middle;\n",
       "    }\n",
       "\n",
       "    .dataframe tbody tr th {\n",
       "        vertical-align: top;\n",
       "    }\n",
       "\n",
       "    .dataframe thead th {\n",
       "        text-align: right;\n",
       "    }\n",
       "</style>\n",
       "<table border=\"1\" class=\"dataframe\">\n",
       "  <thead>\n",
       "    <tr style=\"text-align: right;\">\n",
       "      <th></th>\n",
       "      <th>accidenttype</th>\n",
       "      <th>creationtime</th>\n",
       "      <th>direction</th>\n",
       "      <th>location</th>\n",
       "      <th>offsetdistance</th>\n",
       "      <th>starttime</th>\n",
       "      <th>validitystatus</th>\n",
       "      <th>coordinates</th>\n",
       "    </tr>\n",
       "    <tr>\n",
       "      <th>id</th>\n",
       "      <th></th>\n",
       "      <th></th>\n",
       "      <th></th>\n",
       "      <th></th>\n",
       "      <th></th>\n",
       "      <th></th>\n",
       "      <th></th>\n",
       "      <th></th>\n",
       "    </tr>\n",
       "  </thead>\n",
       "  <tbody>\n",
       "    <tr>\n",
       "      <th>RWS03_582163_1</th>\n",
       "      <td>other</td>\n",
       "      <td>2018-12-03 21:28:02</td>\n",
       "      <td>negative</td>\n",
       "      <td>22288</td>\n",
       "      <td>1500.0</td>\n",
       "      <td>2018-12-03 21:27:57</td>\n",
       "      <td>active</td>\n",
       "      <td>POINT (4.344616889953613 51.96369934082031)</td>\n",
       "    </tr>\n",
       "    <tr>\n",
       "      <th>RWS03_582160_1</th>\n",
       "      <td>other</td>\n",
       "      <td>2018-12-03 21:26:32</td>\n",
       "      <td>positive</td>\n",
       "      <td>9113</td>\n",
       "      <td>700.0</td>\n",
       "      <td>2018-12-03 21:26:25</td>\n",
       "      <td>active</td>\n",
       "      <td>POINT (4.316531181335449 51.48501968383789)</td>\n",
       "    </tr>\n",
       "    <tr>\n",
       "      <th>RWS03_582159_1</th>\n",
       "      <td>accident</td>\n",
       "      <td>2018-12-03 21:26:23</td>\n",
       "      <td>negative</td>\n",
       "      <td>7000</td>\n",
       "      <td>1100.0</td>\n",
       "      <td>2018-12-03 21:26:16</td>\n",
       "      <td>active</td>\n",
       "      <td>POINT (4.960783004760742 52.3497200012207)</td>\n",
       "    </tr>\n",
       "  </tbody>\n",
       "</table>\n",
       "</div>"
      ],
      "text/plain": [
       "               accidenttype        creationtime direction location  \\\n",
       "id                                                                   \n",
       "RWS03_582163_1        other 2018-12-03 21:28:02  negative    22288   \n",
       "RWS03_582160_1        other 2018-12-03 21:26:32  positive     9113   \n",
       "RWS03_582159_1     accident 2018-12-03 21:26:23  negative     7000   \n",
       "\n",
       "                offsetdistance           starttime validitystatus  \\\n",
       "id                                                                  \n",
       "RWS03_582163_1          1500.0 2018-12-03 21:27:57         active   \n",
       "RWS03_582160_1           700.0 2018-12-03 21:26:25         active   \n",
       "RWS03_582159_1          1100.0 2018-12-03 21:26:16         active   \n",
       "\n",
       "                                                coordinates  \n",
       "id                                                           \n",
       "RWS03_582163_1  POINT (4.344616889953613 51.96369934082031)  \n",
       "RWS03_582160_1  POINT (4.316531181335449 51.48501968383789)  \n",
       "RWS03_582159_1   POINT (4.960783004760742 52.3497200012207)  "
      ]
     },
     "execution_count": 3,
     "metadata": {},
     "output_type": "execute_result"
    }
   ],
   "source": [
    "# Settings\n",
    "incidents_url = 'http://opendata.ndw.nu/incidents.xml.gz'\n",
    "\n",
    "# Retrieve and parse incident data\n",
    "incidents_content = retrieve_data(url=incidents_url)\n",
    "gdf_incidents = parse_incidents(incidents_content)\n",
    "\n",
    "# Inspect data\n",
    "gdf_incidents.head(3)"
   ]
  },
  {
   "cell_type": "markdown",
   "metadata": {},
   "source": [
    "## 2. Spatial Visualization"
   ]
  },
  {
   "cell_type": "code",
   "execution_count": 4,
   "metadata": {},
   "outputs": [
    {
     "data": {
      "text/html": [
       "<iframe src=\"data:text/html;base64,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\" width=\"100%\" height=\"600\"></iframe>"
      ],
      "text/plain": [
       "<IPython.core.display.HTML object>"
      ]
     },
     "execution_count": 4,
     "metadata": {},
     "output_type": "execute_result"
    }
   ],
   "source": [
    "# Zoomable map plot\n",
    "leaflet_plot(gdf_incidents, column = 'accidenttype')"
   ]
  },
  {
   "cell_type": "markdown",
   "metadata": {},
   "source": [
    "# In progress: traffic speeds\n",
    "\n",
    "Takes a very long time to process..."
   ]
  },
  {
   "cell_type": "code",
   "execution_count": 5,
   "metadata": {},
   "outputs": [],
   "source": [
    "# Settings\n",
    "trafficspeed_url = 'http://opendata.ndw.nu/trafficspeed.xml.gz'\n",
    "\n",
    "# Retrieve and parse incident data\n",
    "trafficspeed_content = retrieve_data(url=trafficspeed_url)\n",
    "#gdf_trafficspeed = parse_trafficspeed(trafficspeed_content)"
   ]
  },
  {
   "cell_type": "code",
   "execution_count": null,
   "metadata": {},
   "outputs": [],
   "source": [
    "# from io import StringIO\n",
    "# import lxml.etree as et\n",
    "# import pandas as pd\n",
    "\n",
    "# # Load XML and XSL files\n",
    "# #doc = et.fromstring(trafficspeed_content)\n",
    "# doc = et.fromstring(trafficspeed_content)\n",
    "# xsl = et.parse('./xslt/trafficspeed-selection.xsl')\n",
    "\n",
    "# # Initialize and run transformation\n",
    "# transform = et.XSLT(xsl)\n",
    "# # Convert result to string\n",
    "# result = str(transform(doc))\n",
    "\n",
    "# # Import into dataframe§\n",
    "# df = pd.read_csv(StringIO(result))\n",
    "# df.head()"
   ]
  }
 ],
 "metadata": {
  "anaconda-cloud": {},
  "kernelspec": {
   "display_name": "Python [conda root]",
   "language": "python",
   "name": "conda-root-py"
  },
  "language_info": {
   "codemirror_mode": {
    "name": "ipython",
    "version": 3
   },
   "file_extension": ".py",
   "mimetype": "text/x-python",
   "name": "python",
   "nbconvert_exporter": "python",
   "pygments_lexer": "ipython3",
   "version": "3.5.5"
  }
 },
 "nbformat": 4,
 "nbformat_minor": 2
}
