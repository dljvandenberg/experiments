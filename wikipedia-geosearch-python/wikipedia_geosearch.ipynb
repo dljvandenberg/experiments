{
 "cells": [
  {
   "cell_type": "markdown",
   "metadata": {},
   "source": [
    "# Scraping Wikipedia pages using geosearch\n",
    "\n",
    "This notebook uses the Wikipedia API to do a geosearch (based on longitude, latitude, radius) for matching Wikipedia articles, and then retrieves the intro texts of each of the matched articles. Results are exported to a csv file and visualized on a map.\n",
    "\n",
    "See MediaWiki API: https://www.mediawiki.org/wiki/Extension:GeoData\n",
    "\n",
    "Written by Dennis van den Berg."
   ]
  },
  {
   "cell_type": "markdown",
   "metadata": {
    "heading_collapsed": true
   },
   "source": [
    "## Libraries"
   ]
  },
  {
   "cell_type": "code",
   "execution_count": null,
   "metadata": {
    "ExecuteTime": {
     "end_time": "2019-07-26T22:31:55.546136Z",
     "start_time": "2019-07-26T22:31:54.205847Z"
    },
    "hidden": true
   },
   "outputs": [],
   "source": [
    "import requests\n",
    "import pandas as pd\n",
    "import geopy\n",
    "from geopy.geocoders import Nominatim\n",
    "from osmxtract import overpass, location\n",
    "import geopandas as gpd\n",
    "import folium\n",
    "from folium import plugins\n",
    "import base64\n",
    "from IPython.display import HTML\n",
    "\n",
    "%matplotlib inline"
   ]
  },
  {
   "cell_type": "markdown",
   "metadata": {
    "ExecuteTime": {
     "end_time": "2019-05-20T19:12:16.550057Z",
     "start_time": "2019-05-20T19:12:16.544428Z"
    },
    "heading_collapsed": true
   },
   "source": [
    "## Functions"
   ]
  },
  {
   "cell_type": "code",
   "execution_count": null,
   "metadata": {
    "ExecuteTime": {
     "end_time": "2019-07-26T22:31:55.562136Z",
     "start_time": "2019-07-26T22:31:55.547646Z"
    },
    "hidden": true
   },
   "outputs": [],
   "source": [
    "def chunks(list, chunksize):\n",
    "    \"\"\"Yield successive chunks from list.\"\"\"\n",
    "    for chunk_number in range(0, len(list), chunksize):\n",
    "        yield list[chunk_number : chunk_number + chunksize]\n",
    "\n",
    "\n",
    "def wikipedia_get_intro_texts(page_names, query_size=10):\n",
    "    \"\"\"Get intro texts for list of pages\"\"\"\n",
    "    \n",
    "    # Create empty dataframe for intro texts\n",
    "    df_intro_texts_all = pd.DataFrame()\n",
    "    \n",
    "    # Split list of page_names into chunks of length query_size and do multiple queries\n",
    "    for page_names_chunk in chunks(list=page_names, chunksize=query_size):\n",
    "    \n",
    "        # Wikipedia intro text query\n",
    "        page_names_string = '|'.join(page_names_chunk)\n",
    "        url = \"https://en.wikipedia.org/w/api.php?action=query&prop=extracts&format=json&exintro=&titles={}\" \\\n",
    "            .format(page_names_string)\n",
    "\n",
    "        # API call\n",
    "        intro_texts = requests.get(url)\n",
    "\n",
    "        # Unpack json and convert to dataframe\n",
    "        df_intro_texts = pd.DataFrame(intro_texts.json()['query']['pages']).transpose()\n",
    "        \n",
    "        # Append results\n",
    "        df_intro_texts_all = df_intro_texts_all.append(df_intro_texts)\n",
    "    \n",
    "    # Cleaning: remove newlines in 'extract' column\n",
    "    df_intro_texts_all['extract'] = df_intro_texts_all['extract'].str.replace('\\n', ' ').replace('\\r', '')\n",
    "    \n",
    "    return(df_intro_texts_all)\n",
    "\n",
    "\n",
    "def wikipedia_geosearch(lat, lon, radius_meters = 10000, max_results = 500, output_file=None):\n",
    "    \"\"\"Get wikipedia matches by lat/lon coordinates\"\"\"\n",
    "    \n",
    "    # Wikipedia geosearch query\n",
    "    url = \"https://en.wikipedia.org/w/api.php?action=query&list=geosearch&format=json&gslimit={}&gsradius={}&gscoord={}|{}\" \\\n",
    "        .format(str(max_results), str(radius_meters), str(lat), str(lon))\n",
    "\n",
    "    # API call for pages matching location\n",
    "    geo_results = requests.get(url)\n",
    "\n",
    "    # Unpack json and convert to dataframe\n",
    "    df_geo_results = pd.DataFrame(geo_results.json()['query']['geosearch'])\n",
    "    \n",
    "    # API call for intro texts of pages\n",
    "    page_names = list(df_geo_results['title'])\n",
    "    df_intro_texts = wikipedia_get_intro_texts(page_names)\n",
    "    \n",
    "    # Merge intro_texts into geo_results\n",
    "    df_geo_results = df_geo_results.merge(df_intro_texts, how='left')\n",
    "    \n",
    "    # Write to file if needed\n",
    "    if(output_file!=None):\n",
    "        print(\"Results saved to file:\", output_file)\n",
    "        df_geo_results.to_csv(output_file, sep=\"\\t\", index=False)\n",
    "    \n",
    "    return(df_geo_results)\n",
    "\n",
    "\n",
    "def visualize_map(df, label_var = 'title'):\n",
    "    \"\"\"Visualize lat/lon locations on map using Folium\"\"\"\n",
    "    \n",
    "    # Start lon/lat\n",
    "    latitude = df['lat'].mean()\n",
    "    longitude = df['lon'].mean()\n",
    "    \n",
    "    # Initialize map\n",
    "    map = folium.Map(location = [latitude, longitude], zoom_start = 12)\n",
    " \n",
    "    # Instantiate a mark cluster object for the locations in the dataframe\n",
    "    locations = plugins.MarkerCluster().add_to(map)\n",
    " \n",
    "    # Loop through the dataframe and add each data point to the mark cluster\n",
    "    for lat, lon, label, in zip(df['lat'], df['lon'], df[label_var]):\n",
    "        # popup_string = '<a href=\" {} \"target=\"_blank\"> {} </a>'.format('https://en.wikipedia.org/wiki/'+label, label)\n",
    "        popup_string = label\n",
    "        \n",
    "        folium.Marker(\n",
    "            location=[lat, lon],\n",
    "            icon=None,\n",
    "            popup = folium.Popup(popup_string),\n",
    "        ).add_to(locations)\n",
    "\n",
    "    # Display map\n",
    "    return(map)\n",
    "\n",
    "\n",
    "def create_download_link(df, title = \"Download CSV file\", filename = \"data.csv\"):  \n",
    "    csv = df.to_csv()\n",
    "    b64 = base64.b64encode(csv.encode())\n",
    "    payload = b64.decode()\n",
    "    html = '<a download=\"{filename}\" href=\"data:text/csv;base64,{payload}\" target=\"_blank\">{title}</a>'\n",
    "    html = html.format(payload=payload,title=title,filename=filename)\n",
    "    return HTML(html)\n",
    "\n",
    "\n",
    "def get_osm_results(search_location, tag = 'tourism', tag_values = ['museum'], max_distance = 10000):\n",
    "    \"\"\"\n",
    "    Queries OpenStreetMap for <tag>=<tag_values>, \n",
    "    in area of 'max_distance' away from location 'search_location'\n",
    "    \"\"\"\n",
    "\n",
    "    # Get bounding box coordinates from a buffer around specific location\n",
    "    locator = Nominatim(user_agent='dvdb-osm-search')\n",
    "    loc = locator.geocode(search_location, timeout=10)\n",
    "    bounds = location.from_buffer(loc.latitude, loc.longitude, buffer_size=max_distance)\n",
    "\n",
    "    # Build an overpass QL query and get the JSON response\n",
    "    query = overpass.ql_query(bounds, tag=tag, values=tag_values)\n",
    "    response = overpass.request(query)\n",
    "\n",
    "    # Parse results as GeoJSON\n",
    "    feature_collection = overpass.as_geojson(response, 'point')\n",
    "\n",
    "    # To GeoPandas GeoDataFrame\n",
    "    results = gpd.GeoDataFrame.from_features(feature_collection)\n",
    "    \n",
    "    # Create separate lon/lat columns from geometry\n",
    "    results['lon'] = results.geometry.x\n",
    "    results['lat'] = results.geometry.y\n",
    "\n",
    "    return results"
   ]
  },
  {
   "cell_type": "markdown",
   "metadata": {},
   "source": [
    "## Retrieve data and convert to downloadable format"
   ]
  },
  {
   "cell_type": "code",
   "execution_count": null,
   "metadata": {
    "ExecuteTime": {
     "end_time": "2019-07-26T22:31:59.001227Z",
     "start_time": "2019-07-26T22:31:55.564235Z"
    }
   },
   "outputs": [],
   "source": [
    "# Settings\n",
    "search_location = 'Utrecht'\n",
    "max_results = 200\n",
    "output_file = search_location+\".csv\"\n",
    "\n",
    "# Get coordinates\n",
    "locator = Nominatim(user_agent='dvdb')\n",
    "loc = locator.geocode(search_location, timeout=10)\n",
    "latitude = loc.latitude\n",
    "longitude = loc.longitude\n",
    "#latitude = 52.0894444\n",
    "#longitude = 5.1077981\n",
    "\n",
    "# Search wikipedia by location\n",
    "df_wiki_locations = wikipedia_geosearch(lat = latitude, \n",
    "                                 lon = longitude, \n",
    "                                 max_results = max_results, \n",
    "                                 output_file = output_file)\n",
    "\n",
    "# Adding some columns (for data export format)\n",
    "df_wiki_locations['type'] = 9\n",
    "df_wiki_locations['picture'] = \"blank.jpg\"\n",
    "df_wiki_locations['col7'] = \"XYZ\"\n",
    "df_wiki_locations['col9'] = \"XYZ\"\n",
    "df_wiki_locations['col10'] = \"XYZ\"\n",
    "df_wiki_locations['col11'] = \"BLANK\"\n",
    "# Reordering\n",
    "df_download = df_wiki_locations[['type', 'pageid', 'title', 'picture', 'lon', 'lat', 'col7', 'extract', 'col9', 'col10', 'col11']]\n",
    "\n",
    "# Make downloadable\n",
    "create_download_link(df_download, filename=output_file)"
   ]
  },
  {
   "cell_type": "markdown",
   "metadata": {},
   "source": [
    "## Explore data"
   ]
  },
  {
   "cell_type": "code",
   "execution_count": null,
   "metadata": {
    "ExecuteTime": {
     "end_time": "2019-07-26T22:31:59.047701Z",
     "start_time": "2019-07-26T22:31:59.027520Z"
    }
   },
   "outputs": [],
   "source": [
    "df_wiki_locations.head()"
   ]
  },
  {
   "cell_type": "markdown",
   "metadata": {},
   "source": [
    "## Visualize on a map"
   ]
  },
  {
   "cell_type": "code",
   "execution_count": null,
   "metadata": {
    "ExecuteTime": {
     "end_time": "2019-07-26T22:31:59.229348Z",
     "start_time": "2019-07-26T22:31:59.050628Z"
    },
    "scrolled": false
   },
   "outputs": [],
   "source": [
    "visualize_map(df_wiki_locations)"
   ]
  },
  {
   "cell_type": "markdown",
   "metadata": {},
   "source": [
    "# Retrieve locations from OpenStreetMap"
   ]
  },
  {
   "cell_type": "code",
   "execution_count": null,
   "metadata": {},
   "outputs": [],
   "source": [
    "# Settings\n",
    "search_location = 'Utrecht'\n",
    "tag = 'tourism'\n",
    "tag_values = ['museum']\n",
    "max_distance = 50000\n",
    "output_file = 'museums.csv'\n",
    "\n",
    "# Get OSM results\n",
    "df_results = get_osm_results(search_location = search_location, tag = tag, tag_values = tag_values, max_distance = max_distance)\n",
    "\n",
    "# Display first 3 results\n",
    "df_results.head(3)"
   ]
  },
  {
   "cell_type": "code",
   "execution_count": null,
   "metadata": {},
   "outputs": [],
   "source": [
    "# Save results to file\n",
    "df_results.to_csv(output_file)\n",
    "create_download_link(df_results, title = \"Download CSV file\", filename = output_file)"
   ]
  },
  {
   "cell_type": "code",
   "execution_count": null,
   "metadata": {
    "scrolled": true
   },
   "outputs": [],
   "source": [
    "# Plot results on map\n",
    "visualize_map(df_results, label_var = 'name')"
   ]
  }
 ],
 "metadata": {
  "hide_input": false,
  "kernelspec": {
   "display_name": "Python 3",
   "language": "python",
   "name": "python3"
  },
  "language_info": {
   "codemirror_mode": {
    "name": "ipython",
    "version": 3
   },
   "file_extension": ".py",
   "mimetype": "text/x-python",
   "name": "python",
   "nbconvert_exporter": "python",
   "pygments_lexer": "ipython3",
   "version": "3.7.6"
  },
  "varInspector": {
   "cols": {
    "lenName": 16,
    "lenType": 16,
    "lenVar": 40
   },
   "kernels_config": {
    "python": {
     "delete_cmd_postfix": "",
     "delete_cmd_prefix": "del ",
     "library": "var_list.py",
     "varRefreshCmd": "print(var_dic_list())"
    },
    "r": {
     "delete_cmd_postfix": ") ",
     "delete_cmd_prefix": "rm(",
     "library": "var_list.r",
     "varRefreshCmd": "cat(var_dic_list()) "
    }
   },
   "types_to_exclude": [
    "module",
    "function",
    "builtin_function_or_method",
    "instance",
    "_Feature"
   ],
   "window_display": false
  }
 },
 "nbformat": 4,
 "nbformat_minor": 2
}
