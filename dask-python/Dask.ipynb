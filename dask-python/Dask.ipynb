{
 "cells": [
  {
   "cell_type": "markdown",
   "metadata": {},
   "source": [
    "# Dask"
   ]
  },
  {
   "cell_type": "markdown",
   "metadata": {
    "ExecuteTime": {
     "end_time": "2020-12-29T10:05:26.319607Z",
     "start_time": "2020-12-29T10:05:26.316122Z"
    }
   },
   "source": [
    "Docs: https://docs.dask.org/en/latest/"
   ]
  },
  {
   "cell_type": "markdown",
   "metadata": {},
   "source": [
    "## Delayed functions"
   ]
  },
  {
   "cell_type": "code",
   "execution_count": 1,
   "metadata": {
    "ExecuteTime": {
     "end_time": "2020-12-29T09:44:04.342183Z",
     "start_time": "2020-12-29T09:44:04.125658Z"
    }
   },
   "outputs": [],
   "source": [
    "from dask import delayed"
   ]
  },
  {
   "cell_type": "code",
   "execution_count": 8,
   "metadata": {
    "ExecuteTime": {
     "end_time": "2020-12-29T09:47:09.210641Z",
     "start_time": "2020-12-29T09:47:09.207397Z"
    }
   },
   "outputs": [],
   "source": [
    "@delayed\n",
    "def f(x):\n",
    "    return x + 1"
   ]
  },
  {
   "cell_type": "code",
   "execution_count": 12,
   "metadata": {
    "ExecuteTime": {
     "end_time": "2020-12-29T09:47:42.388336Z",
     "start_time": "2020-12-29T09:47:42.383909Z"
    }
   },
   "outputs": [
    {
     "data": {
      "text/plain": [
       "Delayed('f-5c8d7767-7a46-4dc5-88c9-b21806d6ab7e')"
      ]
     },
     "execution_count": 12,
     "metadata": {},
     "output_type": "execute_result"
    }
   ],
   "source": [
    "f"
   ]
  },
  {
   "cell_type": "code",
   "execution_count": 13,
   "metadata": {
    "ExecuteTime": {
     "end_time": "2020-12-29T09:47:43.887889Z",
     "start_time": "2020-12-29T09:47:43.881801Z"
    }
   },
   "outputs": [
    {
     "data": {
      "text/plain": [
       "6"
      ]
     },
     "execution_count": 13,
     "metadata": {},
     "output_type": "execute_result"
    }
   ],
   "source": [
    "f(5).compute()"
   ]
  },
  {
   "cell_type": "markdown",
   "metadata": {},
   "source": [
    "## Dask bags"
   ]
  },
  {
   "cell_type": "markdown",
   "metadata": {},
   "source": [
    "- Create Dask Bag from a sequence\n",
    "- Or read from text formats\n",
    "- Map and filter results\n",
    "- Compute aggregations like mean, count, sum"
   ]
  },
  {
   "cell_type": "code",
   "execution_count": 23,
   "metadata": {
    "ExecuteTime": {
     "end_time": "2020-12-29T09:53:47.494502Z",
     "start_time": "2020-12-29T09:53:47.491740Z"
    }
   },
   "outputs": [],
   "source": [
    "import dask.bag as db\n",
    "from dask import compute"
   ]
  },
  {
   "cell_type": "code",
   "execution_count": 15,
   "metadata": {
    "ExecuteTime": {
     "end_time": "2020-12-29T09:51:07.101861Z",
     "start_time": "2020-12-29T09:51:07.098293Z"
    }
   },
   "outputs": [],
   "source": [
    "numbers = db.from_sequence([1,2,3,4,5])"
   ]
  },
  {
   "cell_type": "code",
   "execution_count": 16,
   "metadata": {
    "ExecuteTime": {
     "end_time": "2020-12-29T09:51:22.055329Z",
     "start_time": "2020-12-29T09:51:22.050863Z"
    }
   },
   "outputs": [],
   "source": [
    "doubles = numbers.map(lambda x: 2*x)"
   ]
  },
  {
   "cell_type": "code",
   "execution_count": 17,
   "metadata": {
    "ExecuteTime": {
     "end_time": "2020-12-29T09:51:25.717628Z",
     "start_time": "2020-12-29T09:51:25.713375Z"
    }
   },
   "outputs": [
    {
     "data": {
      "text/plain": [
       "dask.bag<lambda, npartitions=5>"
      ]
     },
     "execution_count": 17,
     "metadata": {},
     "output_type": "execute_result"
    }
   ],
   "source": [
    "doubles"
   ]
  },
  {
   "cell_type": "code",
   "execution_count": 18,
   "metadata": {
    "ExecuteTime": {
     "end_time": "2020-12-29T09:51:40.468594Z",
     "start_time": "2020-12-29T09:51:39.887975Z"
    }
   },
   "outputs": [
    {
     "data": {
      "text/plain": [
       "[2, 4, 6, 8, 10]"
      ]
     },
     "execution_count": 18,
     "metadata": {},
     "output_type": "execute_result"
    }
   ],
   "source": [
    "doubles.compute()"
   ]
  },
  {
   "cell_type": "code",
   "execution_count": 19,
   "metadata": {
    "ExecuteTime": {
     "end_time": "2020-12-29T09:52:12.800813Z",
     "start_time": "2020-12-29T09:52:12.796805Z"
    }
   },
   "outputs": [],
   "source": [
    "filtered = numbers.filter(lambda number: number < 5)"
   ]
  },
  {
   "cell_type": "code",
   "execution_count": 20,
   "metadata": {
    "ExecuteTime": {
     "end_time": "2020-12-29T09:52:25.646915Z",
     "start_time": "2020-12-29T09:52:25.075707Z"
    }
   },
   "outputs": [
    {
     "data": {
      "text/plain": [
       "[1, 2, 3, 4]"
      ]
     },
     "execution_count": 20,
     "metadata": {},
     "output_type": "execute_result"
    }
   ],
   "source": [
    "filtered.compute()"
   ]
  },
  {
   "cell_type": "code",
   "execution_count": 21,
   "metadata": {
    "ExecuteTime": {
     "end_time": "2020-12-29T09:53:04.618923Z",
     "start_time": "2020-12-29T09:53:04.615057Z"
    }
   },
   "outputs": [],
   "source": [
    "doubles_sum, doubles_min, doubles_max = doubles.sum(), doubles.min(), doubles.max()"
   ]
  },
  {
   "cell_type": "code",
   "execution_count": 24,
   "metadata": {
    "ExecuteTime": {
     "end_time": "2020-12-29T09:53:50.525625Z",
     "start_time": "2020-12-29T09:53:49.762342Z"
    }
   },
   "outputs": [
    {
     "data": {
      "text/plain": [
       "(30, 2, 10)"
      ]
     },
     "execution_count": 24,
     "metadata": {},
     "output_type": "execute_result"
    }
   ],
   "source": [
    "compute(doubles_sum, doubles_min, doubles_max)"
   ]
  }
 ],
 "metadata": {
  "hide_input": false,
  "kernelspec": {
   "display_name": "Python 3",
   "language": "python",
   "name": "python3"
  },
  "language_info": {
   "codemirror_mode": {
    "name": "ipython",
    "version": 3
   },
   "file_extension": ".py",
   "mimetype": "text/x-python",
   "name": "python",
   "nbconvert_exporter": "python",
   "pygments_lexer": "ipython3",
   "version": "3.7.3"
  },
  "varInspector": {
   "cols": {
    "lenName": 16,
    "lenType": 16,
    "lenVar": 40
   },
   "kernels_config": {
    "python": {
     "delete_cmd_postfix": "",
     "delete_cmd_prefix": "del ",
     "library": "var_list.py",
     "varRefreshCmd": "print(var_dic_list())"
    },
    "r": {
     "delete_cmd_postfix": ") ",
     "delete_cmd_prefix": "rm(",
     "library": "var_list.r",
     "varRefreshCmd": "cat(var_dic_list()) "
    }
   },
   "types_to_exclude": [
    "module",
    "function",
    "builtin_function_or_method",
    "instance",
    "_Feature"
   ],
   "window_display": false
  }
 },
 "nbformat": 4,
 "nbformat_minor": 2
}
