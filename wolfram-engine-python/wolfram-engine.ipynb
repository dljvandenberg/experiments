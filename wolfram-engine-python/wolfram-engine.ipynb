{
 "cells": [
  {
   "cell_type": "markdown",
   "metadata": {},
   "source": [
    "# Using the Wolfram Engine within Python\n",
    "\n",
    "**Prerequisites**\n",
    "\n",
    "- Install Wolfram Engine: https://www.wolfram.com/engine/ (requires registration for free license)\n",
    "- Install Wolfram Python Client: `pip install wolframclient`"
   ]
  },
  {
   "cell_type": "markdown",
   "metadata": {},
   "source": [
    "## Libraries and config"
   ]
  },
  {
   "cell_type": "code",
   "execution_count": 23,
   "metadata": {
    "ExecuteTime": {
     "end_time": "2019-05-22T11:31:02.068958Z",
     "start_time": "2019-05-22T11:31:00.970174Z"
    }
   },
   "outputs": [],
   "source": [
    "# Libraries\n",
    "from wolframclient.evaluation import WolframLanguageSession\n",
    "from wolframclient.language import wl, wlexpr\n",
    "\n",
    "# Config\n",
    "session = WolframLanguageSession(kernel='/Applications/Wolfram Engine.app/Contents/MacOS/WolframKernel')\n",
    "\n",
    "# Verify if kernel is working correctly\n",
    "assert session.evaluate(wl.MinMax([1, -3, 0, 9, 5])) == [-3, 9]"
   ]
  },
  {
   "cell_type": "markdown",
   "metadata": {
    "ExecuteTime": {
     "end_time": "2019-05-22T11:31:05.324228Z",
     "start_time": "2019-05-22T11:31:05.321775Z"
    }
   },
   "source": [
    "## Functions"
   ]
  },
  {
   "cell_type": "code",
   "execution_count": 22,
   "metadata": {
    "ExecuteTime": {
     "end_time": "2019-05-22T11:29:34.297322Z",
     "start_time": "2019-05-22T11:29:34.294248Z"
    }
   },
   "outputs": [],
   "source": [
    "def evaluate(expr):\n",
    "    \"\"\"Evaluate Wolfram Language expression string\"\"\"\n",
    "    return session.evaluate(wlexpr(expr))"
   ]
  },
  {
   "cell_type": "markdown",
   "metadata": {},
   "source": [
    "## Check functionalities"
   ]
  },
  {
   "cell_type": "markdown",
   "metadata": {},
   "source": [
    "### Limit"
   ]
  },
  {
   "cell_type": "code",
   "execution_count": 25,
   "metadata": {
    "ExecuteTime": {
     "end_time": "2019-05-22T11:31:51.071580Z",
     "start_time": "2019-05-22T11:31:51.021515Z"
    }
   },
   "outputs": [
    {
     "data": {
      "text/plain": [
       "0"
      ]
     },
     "execution_count": 25,
     "metadata": {},
     "output_type": "execute_result"
    }
   ],
   "source": [
    "limit = 'Limit[x Log[x^2], x -> 0]'\n",
    "evaluate(limit)"
   ]
  },
  {
   "cell_type": "markdown",
   "metadata": {},
   "source": [
    "### Symbolic integration"
   ]
  },
  {
   "cell_type": "code",
   "execution_count": 26,
   "metadata": {
    "ExecuteTime": {
     "end_time": "2019-05-22T11:32:03.267202Z",
     "start_time": "2019-05-22T11:32:03.163044Z"
    }
   },
   "outputs": [
    {
     "data": {
      "text/plain": [
       "Integrate[Times[Power[Global`x, Global`n], Global`sin[Global`x]], Global`x]"
      ]
     },
     "execution_count": 26,
     "metadata": {},
     "output_type": "execute_result"
    }
   ],
   "source": [
    "integral = 'Integrate[sin[x] x^n, x]'\n",
    "evaluate(integral)"
   ]
  },
  {
   "cell_type": "markdown",
   "metadata": {},
   "source": [
    "### Simplify math expression"
   ]
  },
  {
   "cell_type": "code",
   "execution_count": 27,
   "metadata": {
    "ExecuteTime": {
     "end_time": "2019-05-22T11:32:13.106382Z",
     "start_time": "2019-05-22T11:32:13.041695Z"
    }
   },
   "outputs": [
    {
     "data": {
      "text/plain": [
       "Plus[Times[Power[Global`c, 2], Global`x], Times[Global`b, Global`c, Power[Global`x, 2]], << 1 >>, Times[Rational[1, 2], Global`a, Global`b, Power[Global`x, 4]], Times[Rational[1, 5], Power[Global`a, 2], Power[Global`x, 5]]]"
      ]
     },
     "execution_count": 27,
     "metadata": {},
     "output_type": "execute_result"
    }
   ],
   "source": [
    "simplifiedexpression = 'FullSimplify[Integrate[(a x^2 + b x + c)^2, x]]'\n",
    "evaluate(simplifiedexpression)"
   ]
  },
  {
   "cell_type": "markdown",
   "metadata": {},
   "source": [
    "### Symbolic solver"
   ]
  },
  {
   "cell_type": "code",
   "execution_count": 28,
   "metadata": {
    "ExecuteTime": {
     "end_time": "2019-05-22T11:32:25.097612Z",
     "start_time": "2019-05-22T11:32:25.086466Z"
    }
   },
   "outputs": [
    {
     "data": {
      "text/plain": [
       "[[Rule[Global`x, Times[-1, Power[2, Rational[1, 2]]]]],\n",
       " [Rule[Global`x, Power[2, Rational[1, 2]]]]]"
      ]
     },
     "execution_count": 28,
     "metadata": {},
     "output_type": "execute_result"
    }
   ],
   "source": [
    "solveexpression = 'Solve[(x^2 + 2) (x^2 - 2) == 0, x, Reals]'\n",
    "evaluate(solveexpression)"
   ]
  },
  {
   "cell_type": "code",
   "execution_count": 29,
   "metadata": {
    "ExecuteTime": {
     "end_time": "2019-05-22T11:32:40.902782Z",
     "start_time": "2019-05-22T11:32:40.863486Z"
    }
   },
   "outputs": [
    {
     "data": {
      "text/plain": [
       "[[Rule[Global`x, Rational[1, 2]], Rule[Global`y, Rational[3, 2]]]]"
      ]
     },
     "execution_count": 29,
     "metadata": {},
     "output_type": "execute_result"
    }
   ],
   "source": [
    "solveexpression = 'Solve[{x + y == 2, y - x == 1}, Reals]'\n",
    "evaluate(solveexpression)"
   ]
  },
  {
   "cell_type": "markdown",
   "metadata": {},
   "source": [
    "### Choropleth map"
   ]
  },
  {
   "cell_type": "code",
   "execution_count": null,
   "metadata": {
    "ExecuteTime": {
     "end_time": "2019-05-22T11:36:40.338375Z",
     "start_time": "2019-05-22T11:36:32.970396Z"
    }
   },
   "outputs": [],
   "source": [
    "# To do: find out how to visualize image output\n",
    "evaluate(\"\"\"GeoRegionValuePlot[{\n",
    "         Interpreter[\"Country\"][\"ITA\"] -> 2.2,\n",
    "         Interpreter[\"Country\"][\"GER\"] -> 5,\n",
    "         Interpreter[\"Country\"][\"UK\"] -> 4.5\n",
    "         }]\"\"\")"
   ]
  }
 ],
 "metadata": {
  "hide_input": false,
  "kernelspec": {
   "display_name": "Python 3",
   "language": "python",
   "name": "python3"
  },
  "language_info": {
   "codemirror_mode": {
    "name": "ipython",
    "version": 3
   },
   "file_extension": ".py",
   "mimetype": "text/x-python",
   "name": "python",
   "nbconvert_exporter": "python",
   "pygments_lexer": "ipython3",
   "version": "3.7.3"
  },
  "varInspector": {
   "cols": {
    "lenName": 16,
    "lenType": 16,
    "lenVar": 40
   },
   "kernels_config": {
    "python": {
     "delete_cmd_postfix": "",
     "delete_cmd_prefix": "del ",
     "library": "var_list.py",
     "varRefreshCmd": "print(var_dic_list())"
    },
    "r": {
     "delete_cmd_postfix": ") ",
     "delete_cmd_prefix": "rm(",
     "library": "var_list.r",
     "varRefreshCmd": "cat(var_dic_list()) "
    }
   },
   "types_to_exclude": [
    "module",
    "function",
    "builtin_function_or_method",
    "instance",
    "_Feature"
   ],
   "window_display": false
  }
 },
 "nbformat": 4,
 "nbformat_minor": 2
}
