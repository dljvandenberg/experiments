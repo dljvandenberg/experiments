{
 "cells": [
  {
   "cell_type": "markdown",
   "metadata": {},
   "source": [
    "# Bayesian Optimization: Newspaper Vendor Problem\n",
    "\n",
    "This problem is a \"textbook example\" Operations Research problem called the newsvendor problem. Also called \"Single period model\".\n",
    "\n",
    "\n",
    "If we know:\n",
    "1. The price the newsvendor buys the newspapers for\n",
    "2. The price the newsvendor sells the newspapers for\n",
    "3. The demand, or number of papers sold, that day\n",
    "4. The decision: The number of newspapers the newsvendor decides to buy\n",
    "\n",
    "we can directly calculate the newsvendor's profit. However, we don't know actual future demand.\n",
    "\n",
    "The question is how to **optimize profit using limited information on actual demand**. We will use Bayesian Optimization to address this.\n",
    "\n",
    "\n",
    "**Credits**: *This notebook is based on a PyData Global 2020 talk by Ravin Kumar, see: https://github.com/canyon289/PyDataGlobal_2020*"
   ]
  },
  {
   "cell_type": "code",
   "execution_count": null,
   "metadata": {
    "ExecuteTime": {
     "end_time": "2020-12-03T16:28:39.681858Z",
     "start_time": "2020-12-03T16:28:37.763368Z"
    }
   },
   "outputs": [],
   "source": [
    "import numpy as np\n",
    "import pandas as pd\n",
    "from scipy import stats, optimize\n",
    "import pymc3 as pm\n",
    "import arviz as az\n",
    "import matplotlib.pyplot as plt"
   ]
  },
  {
   "cell_type": "markdown",
   "metadata": {},
   "source": [
    "## Define objective function"
   ]
  },
  {
   "cell_type": "code",
   "execution_count": null,
   "metadata": {
    "ExecuteTime": {
     "end_time": "2020-12-03T16:28:39.689159Z",
     "start_time": "2020-12-03T16:28:39.684893Z"
    }
   },
   "outputs": [],
   "source": [
    "def daily_profit(inventory, demand, newsvendor_cost=5, customer_price=7):\n",
    "    \"\"\"Calculates profit for a given day given inventory and demand\"\"\"\n",
    "    return customer_price*np.min([inventory, demand]) - newsvendor_cost*inventory\n",
    "\n",
    "\n",
    "def objective(inventory: int, demands: iter, **kwargs):\n",
    "    \"\"\"Takes an iterable of demand values and returns (negative) the total profit\"\"\"\n",
    "    # Use negative total profit so that the objective function can be minimized later\n",
    "    objective_function_value = -np.sum([daily_profit(inventory=inventory, demand=d, **kwargs) for d in demands])\n",
    "    return objective_function_value"
   ]
  },
  {
   "cell_type": "markdown",
   "metadata": {},
   "source": [
    "**Example**: with static daily inventory value of 42 newspapers, given costs, sales prices and daily demands, the newsvendor obtains a total profit of:"
   ]
  },
  {
   "cell_type": "code",
   "execution_count": null,
   "metadata": {
    "ExecuteTime": {
     "end_time": "2020-12-03T16:28:39.696892Z",
     "start_time": "2020-12-03T16:28:39.693850Z"
    }
   },
   "outputs": [],
   "source": [
    "total_profit = -objective(inventory=42, demands=[38,47,42], newsvendor_cost=4, customer_price=7)"
   ]
  },
  {
   "cell_type": "markdown",
   "metadata": {},
   "source": [
    "## Sample data"
   ]
  },
  {
   "cell_type": "code",
   "execution_count": null,
   "metadata": {
    "ExecuteTime": {
     "end_time": "2020-12-03T16:28:39.702689Z",
     "start_time": "2020-12-03T16:28:39.698779Z"
    }
   },
   "outputs": [],
   "source": [
    "# Generate train/test data for demand from a Normal distribution with given mu, sigma\n",
    "mu = 40\n",
    "sigma = 20\n",
    "\n",
    "np.random.seed(seed=1234)\n",
    "demand = np.round(stats.norm(mu, sigma).rvs(15)) \n",
    "demand_seen, demand_unseen = demand[:5], demand[5:]"
   ]
  },
  {
   "cell_type": "markdown",
   "metadata": {},
   "source": [
    "Demands seen historically:"
   ]
  },
  {
   "cell_type": "code",
   "execution_count": null,
   "metadata": {
    "ExecuteTime": {
     "end_time": "2020-12-03T16:28:39.709448Z",
     "start_time": "2020-12-03T16:28:39.704515Z"
    }
   },
   "outputs": [],
   "source": [
    "demand_seen"
   ]
  },
  {
   "cell_type": "markdown",
   "metadata": {},
   "source": [
    "## Bayesian model for demand\n",
    "\n",
    "Using PyMC3"
   ]
  },
  {
   "cell_type": "code",
   "execution_count": null,
   "metadata": {
    "ExecuteTime": {
     "end_time": "2020-12-03T16:29:16.860841Z",
     "start_time": "2020-12-03T16:28:39.712771Z"
    }
   },
   "outputs": [],
   "source": [
    "with pm.Model() as newsvendor:\n",
    "    \n",
    "    # Define priors\n",
    "    sd = pm.HalfStudentT(\"standard_deviation_of_newspaper_demand\", sigma=10, nu=20)\n",
    "    mu = pm.Normal(\"mean_of_newspaper_demand\", demand_seen.mean(), 20)\n",
    "    demand = pm.TruncatedNormal(\"demand\", mu=mu, sd=sd, lower=0, observed = demand_seen)\n",
    "\n",
    "    # Sample posterior\n",
    "    trace = pm.sample(tune=5000, draws=10000, chains=2)\n",
    "    posterior_predictive = pm.sample_posterior_predictive(trace, progressbar=False)\n",
    "    inf_data = az.from_pymc3(trace=trace, posterior_predictive=posterior_predictive)"
   ]
  },
  {
   "cell_type": "markdown",
   "metadata": {},
   "source": [
    "## Numeric Optimization\n",
    "\n",
    "Using scipy optimizer"
   ]
  },
  {
   "cell_type": "code",
   "execution_count": null,
   "metadata": {
    "ExecuteTime": {
     "end_time": "2020-12-03T16:29:43.096916Z",
     "start_time": "2020-12-03T16:29:16.864362Z"
    }
   },
   "outputs": [],
   "source": [
    "bayesian_demand_estimates = inf_data.posterior_predictive[\"demand\"].values.flatten()\n",
    "opt_stoch = optimize.minimize_scalar(objective, bounds=(0, np.inf), args=(bayesian_demand_estimates,))\n",
    "opt_stoch"
   ]
  },
  {
   "cell_type": "code",
   "execution_count": null,
   "metadata": {
    "ExecuteTime": {
     "end_time": "2020-12-03T16:29:43.101591Z",
     "start_time": "2020-12-03T16:29:43.098533Z"
    },
    "scrolled": true
   },
   "outputs": [],
   "source": [
    "f\"Optimal inventory from Bayesian demand estimation and optimizer is {np.round(opt_stoch.x)} newspapers\""
   ]
  },
  {
   "cell_type": "markdown",
   "metadata": {},
   "source": [
    "## Performance on unseen data"
   ]
  },
  {
   "cell_type": "code",
   "execution_count": null,
   "metadata": {
    "ExecuteTime": {
     "end_time": "2020-12-03T16:31:30.605284Z",
     "start_time": "2020-12-03T16:31:30.599295Z"
    }
   },
   "outputs": [],
   "source": [
    "profit = -objective(inventory=np.round(opt_stoch.x), demands=demand_unseen)\n",
    "n_days = len(demand_unseen)\n",
    "\n",
    "\"Testing inventory choice over {:n} unseen days yields a total profit of {:.2f}, or {:.2f} per day.\" \\\n",
    "    .format(n_days, profit, profit/n_days)"
   ]
  }
 ],
 "metadata": {
  "hide_input": false,
  "kernelspec": {
   "display_name": "Python 3",
   "language": "python",
   "name": "python3"
  },
  "language_info": {
   "codemirror_mode": {
    "name": "ipython",
    "version": 3
   },
   "file_extension": ".py",
   "mimetype": "text/x-python",
   "name": "python",
   "nbconvert_exporter": "python",
   "pygments_lexer": "ipython3",
   "version": "3.7.3"
  },
  "varInspector": {
   "cols": {
    "lenName": 16,
    "lenType": 16,
    "lenVar": 40
   },
   "kernels_config": {
    "python": {
     "delete_cmd_postfix": "",
     "delete_cmd_prefix": "del ",
     "library": "var_list.py",
     "varRefreshCmd": "print(var_dic_list())"
    },
    "r": {
     "delete_cmd_postfix": ") ",
     "delete_cmd_prefix": "rm(",
     "library": "var_list.r",
     "varRefreshCmd": "cat(var_dic_list()) "
    }
   },
   "types_to_exclude": [
    "module",
    "function",
    "builtin_function_or_method",
    "instance",
    "_Feature"
   ],
   "window_display": false
  }
 },
 "nbformat": 4,
 "nbformat_minor": 4
}
