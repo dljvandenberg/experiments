{
 "cells": [
  {
   "cell_type": "markdown",
   "metadata": {},
   "source": [
    "# Correlation analysis"
   ]
  },
  {
   "cell_type": "markdown",
   "metadata": {
    "ExecuteTime": {
     "end_time": "2020-09-24T08:21:04.909720Z",
     "start_time": "2020-09-24T08:21:04.907478Z"
    }
   },
   "source": [
    "Using https://phik.readthedocs.io/en/latest/"
   ]
  },
  {
   "cell_type": "code",
   "execution_count": null,
   "metadata": {
    "ExecuteTime": {
     "end_time": "2020-09-24T08:36:07.787002Z",
     "start_time": "2020-09-24T08:36:07.784915Z"
    }
   },
   "outputs": [],
   "source": [
    "#!pip install phik"
   ]
  },
  {
   "cell_type": "code",
   "execution_count": null,
   "metadata": {
    "ExecuteTime": {
     "end_time": "2020-09-24T08:36:08.904439Z",
     "start_time": "2020-09-24T08:36:07.789497Z"
    }
   },
   "outputs": [],
   "source": [
    "import pandas as pd\n",
    "import phik\n",
    "from phik import resources, report\n",
    "\n",
    "# open fake car insurance data\n",
    "df = pd.read_csv( resources.fixture('fake_insurance_data.csv.gz') )\n",
    "df.head()"
   ]
  },
  {
   "cell_type": "code",
   "execution_count": null,
   "metadata": {
    "ExecuteTime": {
     "end_time": "2020-09-24T08:36:08.912877Z",
     "start_time": "2020-09-24T08:36:08.906822Z"
    }
   },
   "outputs": [],
   "source": [
    "# Pearson's correlation matrix between numeric variables (pandas functionality)\n",
    "df.corr()"
   ]
  },
  {
   "cell_type": "code",
   "execution_count": null,
   "metadata": {
    "ExecuteTime": {
     "end_time": "2020-09-24T08:36:10.658210Z",
     "start_time": "2020-09-24T08:36:08.914985Z"
    }
   },
   "outputs": [],
   "source": [
    "# get the phi_k correlation matrix between all variables\n",
    "df.phik_matrix()"
   ]
  },
  {
   "cell_type": "code",
   "execution_count": null,
   "metadata": {
    "ExecuteTime": {
     "end_time": "2020-09-24T08:36:10.725111Z",
     "start_time": "2020-09-24T08:36:10.661545Z"
    }
   },
   "outputs": [],
   "source": [
    "# get global correlations based on phi_k correlation matrix\n",
    "df.global_phik()"
   ]
  },
  {
   "cell_type": "code",
   "execution_count": null,
   "metadata": {
    "ExecuteTime": {
     "end_time": "2020-09-24T08:36:17.700980Z",
     "start_time": "2020-09-24T08:36:10.728049Z"
    }
   },
   "outputs": [],
   "source": [
    "# get the significance matrix (expressed as one-sided Z)\n",
    "# of the hypothesis test of each variable-pair dependency\n",
    "df.significance_matrix()"
   ]
  },
  {
   "cell_type": "code",
   "execution_count": null,
   "metadata": {
    "ExecuteTime": {
     "end_time": "2020-09-24T08:36:17.725111Z",
     "start_time": "2020-09-24T08:36:17.702736Z"
    }
   },
   "outputs": [],
   "source": [
    "# contingency table of two columns\n",
    "cols = ['mileage','car_size']\n",
    "df[cols].hist2d()"
   ]
  },
  {
   "cell_type": "code",
   "execution_count": null,
   "metadata": {
    "ExecuteTime": {
     "end_time": "2020-09-24T08:36:17.765219Z",
     "start_time": "2020-09-24T08:36:17.726937Z"
    }
   },
   "outputs": [],
   "source": [
    "# normalized residuals of contingency test applied to cols\n",
    "df[cols].outlier_significance_matrix()"
   ]
  },
  {
   "cell_type": "code",
   "execution_count": null,
   "metadata": {
    "ExecuteTime": {
     "end_time": "2020-09-24T08:36:17.987716Z",
     "start_time": "2020-09-24T08:36:17.766796Z"
    }
   },
   "outputs": [],
   "source": [
    "# show the normalized residuals of each variable-pair\n",
    "df.outlier_significance_matrices()"
   ]
  },
  {
   "cell_type": "code",
   "execution_count": null,
   "metadata": {
    "ExecuteTime": {
     "end_time": "2020-09-24T08:36:20.249175Z",
     "start_time": "2020-09-24T08:36:17.989579Z"
    }
   },
   "outputs": [],
   "source": [
    "# generate a phik correlation report and save as test.pdf\n",
    "report.correlation_report(df, pdf_file_name='correlation_report.pdf')"
   ]
  }
 ],
 "metadata": {
  "hide_input": false,
  "kernelspec": {
   "display_name": "Python 3",
   "language": "python",
   "name": "python3"
  },
  "language_info": {
   "codemirror_mode": {
    "name": "ipython",
    "version": 3
   },
   "file_extension": ".py",
   "mimetype": "text/x-python",
   "name": "python",
   "nbconvert_exporter": "python",
   "pygments_lexer": "ipython3",
   "version": "3.7.3"
  },
  "toc": {
   "base_numbering": 1,
   "nav_menu": {},
   "number_sections": true,
   "sideBar": true,
   "skip_h1_title": true,
   "title_cell": "Contents",
   "title_sidebar": "Contents",
   "toc_cell": true,
   "toc_position": {},
   "toc_section_display": true,
   "toc_window_display": true
  },
  "varInspector": {
   "cols": {
    "lenName": 16,
    "lenType": 16,
    "lenVar": 40
   },
   "kernels_config": {
    "python": {
     "delete_cmd_postfix": "",
     "delete_cmd_prefix": "del ",
     "library": "var_list.py",
     "varRefreshCmd": "print(var_dic_list())"
    },
    "r": {
     "delete_cmd_postfix": ") ",
     "delete_cmd_prefix": "rm(",
     "library": "var_list.r",
     "varRefreshCmd": "cat(var_dic_list()) "
    }
   },
   "types_to_exclude": [
    "module",
    "function",
    "builtin_function_or_method",
    "instance",
    "_Feature"
   ],
   "window_display": false
  }
 },
 "nbformat": 4,
 "nbformat_minor": 2
}
