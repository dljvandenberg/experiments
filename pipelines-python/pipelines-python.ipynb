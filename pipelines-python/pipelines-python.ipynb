{
 "cells": [
  {
   "cell_type": "code",
   "execution_count": 5,
   "metadata": {
    "ExecuteTime": {
     "end_time": "2019-05-22T08:51:25.722042Z",
     "start_time": "2019-05-22T08:51:25.719290Z"
    }
   },
   "outputs": [],
   "source": [
    "#!pip install toolz"
   ]
  },
  {
   "cell_type": "code",
   "execution_count": 3,
   "metadata": {
    "ExecuteTime": {
     "end_time": "2019-05-22T08:50:08.693758Z",
     "start_time": "2019-05-22T08:50:08.676108Z"
    }
   },
   "outputs": [
    {
     "name": "stdout",
     "output_type": "stream",
     "text": [
      "1 2\n",
      "2\n",
      "2\n"
     ]
    }
   ],
   "source": [
    "from toolz.functoolz import pipe as pipeline\n",
    "\n",
    "def pipe1(a, b):\n",
    "    print(a, b)\n",
    "    c = a * b\n",
    "    return c\n",
    "\n",
    "def pipe2(c):\n",
    "    print(c)\n",
    "    return c\n",
    "\n",
    "def pipe3(d):\n",
    "    print(d)\n",
    "\n",
    "if __name__ == \"__main__\":\n",
    "    a = 1\n",
    "    b = 2\n",
    "    pipeline(\n",
    "        pipe1(a,b),\n",
    "        pipe2,\n",
    "        pipe3\n",
    "    )"
   ]
  }
 ],
 "metadata": {
  "hide_input": false,
  "kernelspec": {
   "display_name": "Python 3",
   "language": "python",
   "name": "python3"
  },
  "language_info": {
   "codemirror_mode": {
    "name": "ipython",
    "version": 3
   },
   "file_extension": ".py",
   "mimetype": "text/x-python",
   "name": "python",
   "nbconvert_exporter": "python",
   "pygments_lexer": "ipython3",
   "version": "3.7.3"
  },
  "varInspector": {
   "cols": {
    "lenName": 16,
    "lenType": 16,
    "lenVar": 40
   },
   "kernels_config": {
    "python": {
     "delete_cmd_postfix": "",
     "delete_cmd_prefix": "del ",
     "library": "var_list.py",
     "varRefreshCmd": "print(var_dic_list())"
    },
    "r": {
     "delete_cmd_postfix": ") ",
     "delete_cmd_prefix": "rm(",
     "library": "var_list.r",
     "varRefreshCmd": "cat(var_dic_list()) "
    }
   },
   "types_to_exclude": [
    "module",
    "function",
    "builtin_function_or_method",
    "instance",
    "_Feature"
   ],
   "window_display": false
  }
 },
 "nbformat": 4,
 "nbformat_minor": 2
}
