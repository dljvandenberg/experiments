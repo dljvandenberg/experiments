{
 "cells": [
  {
   "cell_type": "markdown",
   "metadata": {},
   "source": [
    "# Parse pdf's to dataframe"
   ]
  },
  {
   "cell_type": "code",
   "execution_count": 1,
   "metadata": {
    "ExecuteTime": {
     "end_time": "2019-08-09T11:29:36.444771Z",
     "start_time": "2019-08-09T11:29:35.905558Z"
    }
   },
   "outputs": [],
   "source": [
    "# https://pypi.org/project/tabula-py/\n",
    "# !pip install tabula-py\n",
    "import tabula"
   ]
  },
  {
   "cell_type": "code",
   "execution_count": 2,
   "metadata": {
    "ExecuteTime": {
     "end_time": "2019-08-09T11:29:40.145477Z",
     "start_time": "2019-08-09T11:29:36.446769Z"
    },
    "scrolled": false
   },
   "outputs": [
    {
     "data": {
      "text/html": [
       "<div>\n",
       "<style scoped>\n",
       "    .dataframe tbody tr th:only-of-type {\n",
       "        vertical-align: middle;\n",
       "    }\n",
       "\n",
       "    .dataframe tbody tr th {\n",
       "        vertical-align: top;\n",
       "    }\n",
       "\n",
       "    .dataframe thead th {\n",
       "        text-align: right;\n",
       "    }\n",
       "</style>\n",
       "<table border=\"1\" class=\"dataframe\">\n",
       "  <thead>\n",
       "    <tr style=\"text-align: right;\">\n",
       "      <th></th>\n",
       "      <th>Arzneimittelname</th>\n",
       "      <th>PZN</th>\n",
       "      <th>größe</th>\n",
       "      <th>Preis</th>\n",
       "      <th>betrag</th>\n",
       "      <th>renz</th>\n",
       "      <th>stoff</th>\n",
       "      <th>menge</th>\n",
       "      <th>w</th>\n",
       "      <th>form</th>\n",
       "      <th>Festbetragsgruppe</th>\n",
       "      <th>Stufe</th>\n",
       "    </tr>\n",
       "  </thead>\n",
       "  <tbody>\n",
       "    <tr>\n",
       "      <th>0</th>\n",
       "      <td>5 FU MEDAC 50MG/ML 10000MG</td>\n",
       "      <td>04142441</td>\n",
       "      <td>1</td>\n",
       "      <td>52,81</td>\n",
       "      <td>52,84</td>\n",
       "      <td>-0,03</td>\n",
       "      <td>NaN</td>\n",
       "      <td>10000</td>\n",
       "      <td>10000</td>\n",
       "      <td>IFIJ</td>\n",
       "      <td>5-Fluorouracil, Gruppe 1</td>\n",
       "      <td>1</td>\n",
       "    </tr>\n",
       "    <tr>\n",
       "      <th>1</th>\n",
       "      <td>5 FU MEDAC 50MG/ML 1000MG</td>\n",
       "      <td>03728044</td>\n",
       "      <td>1</td>\n",
       "      <td>16,34</td>\n",
       "      <td>16,34</td>\n",
       "      <td>0,00</td>\n",
       "      <td>NaN</td>\n",
       "      <td>1000</td>\n",
       "      <td>1000</td>\n",
       "      <td>IJLG</td>\n",
       "      <td>5-Fluorouracil, Gruppe 1</td>\n",
       "      <td>1</td>\n",
       "    </tr>\n",
       "    <tr>\n",
       "      <th>2</th>\n",
       "      <td>5 FU MEDAC 50MG/ML 5000MG</td>\n",
       "      <td>03728156</td>\n",
       "      <td>1</td>\n",
       "      <td>33,69</td>\n",
       "      <td>33,69</td>\n",
       "      <td>0,00</td>\n",
       "      <td>NaN</td>\n",
       "      <td>5000</td>\n",
       "      <td>5000</td>\n",
       "      <td>IJLG</td>\n",
       "      <td>5-Fluorouracil, Gruppe 1</td>\n",
       "      <td>1</td>\n",
       "    </tr>\n",
       "    <tr>\n",
       "      <th>3</th>\n",
       "      <td>5 FU MEDAC 50MG/ML 500MG</td>\n",
       "      <td>03727369</td>\n",
       "      <td>1</td>\n",
       "      <td>13,76</td>\n",
       "      <td>13,83</td>\n",
       "      <td>-0,07</td>\n",
       "      <td>NaN</td>\n",
       "      <td>500</td>\n",
       "      <td>500</td>\n",
       "      <td>IFIJ</td>\n",
       "      <td>5-Fluorouracil, Gruppe 1</td>\n",
       "      <td>1</td>\n",
       "    </tr>\n",
       "    <tr>\n",
       "      <th>4</th>\n",
       "      <td>5-FU ONKOVIS 50MG/ML5000MG</td>\n",
       "      <td>08455800</td>\n",
       "      <td>1</td>\n",
       "      <td>30,92</td>\n",
       "      <td>33,69</td>\n",
       "      <td>-2,77</td>\n",
       "      <td>NaN</td>\n",
       "      <td>5000</td>\n",
       "      <td>5000</td>\n",
       "      <td>IJLG</td>\n",
       "      <td>5-Fluorouracil, Gruppe 1</td>\n",
       "      <td>1</td>\n",
       "    </tr>\n",
       "  </tbody>\n",
       "</table>\n",
       "</div>"
      ],
      "text/plain": [
       "             Arzneimittelname       PZN größe  Preis betrag   renz stoff  \\\n",
       "0  5 FU MEDAC 50MG/ML 10000MG  04142441     1  52,81  52,84  -0,03   NaN   \n",
       "1   5 FU MEDAC 50MG/ML 1000MG  03728044     1  16,34  16,34   0,00   NaN   \n",
       "2   5 FU MEDAC 50MG/ML 5000MG  03728156     1  33,69  33,69   0,00   NaN   \n",
       "3    5 FU MEDAC 50MG/ML 500MG  03727369     1  13,76  13,83  -0,07   NaN   \n",
       "4  5-FU ONKOVIS 50MG/ML5000MG  08455800     1  30,92  33,69  -2,77   NaN   \n",
       "\n",
       "   menge      w  form         Festbetragsgruppe Stufe  \n",
       "0  10000  10000  IFIJ  5-Fluorouracil, Gruppe 1     1  \n",
       "1   1000   1000  IJLG  5-Fluorouracil, Gruppe 1     1  \n",
       "2   5000   5000  IJLG  5-Fluorouracil, Gruppe 1     1  \n",
       "3    500    500  IFIJ  5-Fluorouracil, Gruppe 1     1  \n",
       "4   5000   5000  IJLG  5-Fluorouracil, Gruppe 1     1  "
      ]
     },
     "execution_count": 2,
     "metadata": {},
     "output_type": "execute_result"
    }
   ],
   "source": [
    "filename = \"https://www.dimdi.de/dynamic/.downloads/arzneimittel/festbetraege/2019/festbetraege-20190801.pdf\"\n",
    "\n",
    "# Read pdf into DataFrame\n",
    "df = tabula.read_pdf(filename, pages='1-4')\n",
    "\n",
    "df.head()"
   ]
  }
 ],
 "metadata": {
  "hide_input": false,
  "kernelspec": {
   "display_name": "Python 3",
   "language": "python",
   "name": "python3"
  },
  "language_info": {
   "codemirror_mode": {
    "name": "ipython",
    "version": 3
   },
   "file_extension": ".py",
   "mimetype": "text/x-python",
   "name": "python",
   "nbconvert_exporter": "python",
   "pygments_lexer": "ipython3",
   "version": "3.7.3"
  },
  "varInspector": {
   "cols": {
    "lenName": 16,
    "lenType": 16,
    "lenVar": 40
   },
   "kernels_config": {
    "python": {
     "delete_cmd_postfix": "",
     "delete_cmd_prefix": "del ",
     "library": "var_list.py",
     "varRefreshCmd": "print(var_dic_list())"
    },
    "r": {
     "delete_cmd_postfix": ") ",
     "delete_cmd_prefix": "rm(",
     "library": "var_list.r",
     "varRefreshCmd": "cat(var_dic_list()) "
    }
   },
   "types_to_exclude": [
    "module",
    "function",
    "builtin_function_or_method",
    "instance",
    "_Feature"
   ],
   "window_display": false
  }
 },
 "nbformat": 4,
 "nbformat_minor": 2
}
