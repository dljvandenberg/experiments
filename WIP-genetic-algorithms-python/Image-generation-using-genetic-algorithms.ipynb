{
 "cells": [
  {
   "cell_type": "markdown",
   "metadata": {},
   "source": [
    "# Genetic algorithms\n",
    "\n",
    "We will use a genetic algorithm that breeds individuals consisting of sets of polygons (genes) that can be plotted on top of each other as a single image. The goal is to recreate an example image as best as possible."
   ]
  },
  {
   "cell_type": "code",
   "execution_count": 6,
   "metadata": {
    "ExecuteTime": {
     "end_time": "2019-06-05T23:49:39.339885Z",
     "start_time": "2019-06-05T23:49:39.335213Z"
    }
   },
   "outputs": [],
   "source": [
    "#class Population:\n",
    "    #init\n",
    "    \n",
    "    #str\n",
    "    \n",
    "    #get_best_fitness\n",
    "    \n",
    "    #breed\n",
    "    \n",
    "    #select\n",
    "    #recombine\n",
    "    #mutate\n",
    "    \n",
    "#population = Population()\n",
    "#for i in range(20):\n",
    "#    population.breed()\n",
    "#    print(population.get_best_fitness())"
   ]
  },
  {
   "cell_type": "code",
   "execution_count": 1,
   "metadata": {
    "ExecuteTime": {
     "end_time": "2019-06-06T13:01:07.326785Z",
     "start_time": "2019-06-06T13:01:07.302659Z"
    }
   },
   "outputs": [],
   "source": [
    "import numpy as np\n",
    "from PIL import Image, ImageDraw"
   ]
  },
  {
   "cell_type": "code",
   "execution_count": 73,
   "metadata": {
    "ExecuteTime": {
     "end_time": "2019-06-06T00:54:53.492133Z",
     "start_time": "2019-06-06T00:54:53.470181Z"
    }
   },
   "outputs": [
    {
     "name": "stdout",
     "output_type": "stream",
     "text": [
      "Individual: [141  76  29   1 254 189  77  81  79 159  89 218 175 123  15  42 233  20\n",
      " 209 100  16  16 160   7] (4 genes of size 3)\n"
     ]
    }
   ],
   "source": [
    "class Individual:\n",
    "    def __init__(self, n_genes=20, gene_size=3):\n",
    "        # A gene is a polygon that can be plotted\n",
    "        self.n_genes = n_genes\n",
    "        # Gene size is the number of vertices in a polygon\n",
    "        self.gene_size = gene_size\n",
    "        # Genetic code is array of genes\n",
    "        self.genotype = np.random.randint(low = 0, high = 255, size = self.n_genes*self.gene_size*2)\n",
    "    \n",
    "    def __str__(self):\n",
    "        description = \"Individual: \" + str(self.genotype) + \" (\" + str(self.n_genes) + \" genes of size \" + str(self.gene_size) + \")\"\n",
    "        return description\n",
    "    \n",
    "    def show(self):\n",
    "        image = Image.new(\"RGBA\", (256, 256), color=(0,0,0,0))\n",
    "        draw = ImageDraw.Draw(image)\n",
    "\n",
    "        # Draw polygons from genotype\n",
    "        for gene in self.genotype.reshape([self.n_genes, self.gene_size, 2]):\n",
    "            polygon = list(map(tuple, gene))\n",
    "            draw.polygon(polygon, fill='red')\n",
    "    \n",
    "        image.show()\n",
    "\n",
    "    def get_fitness(self, target):\n",
    "        # Compare to target image\n",
    "        pass\n",
    "\n",
    "# Check\n",
    "individual = Individual(n_genes=4, gene_size=3)\n",
    "print(individual)\n",
    "\n",
    "individual.show()"
   ]
  },
  {
   "cell_type": "code",
   "execution_count": 70,
   "metadata": {
    "ExecuteTime": {
     "end_time": "2019-06-06T00:53:59.526358Z",
     "start_time": "2019-06-06T00:53:59.490976Z"
    }
   },
   "outputs": [],
   "source": [
    "# Target image\n",
    "target = Image.open('image.png')\n",
    "target.thumbnail((256,256))\n",
    "individual.get_fitness(target_image)"
   ]
  }
 ],
 "metadata": {
  "hide_input": false,
  "kernelspec": {
   "display_name": "Python 3",
   "language": "python",
   "name": "python3"
  },
  "language_info": {
   "codemirror_mode": {
    "name": "ipython",
    "version": 3
   },
   "file_extension": ".py",
   "mimetype": "text/x-python",
   "name": "python",
   "nbconvert_exporter": "python",
   "pygments_lexer": "ipython3",
   "version": "3.7.3"
  },
  "varInspector": {
   "cols": {
    "lenName": 16,
    "lenType": 16,
    "lenVar": 40
   },
   "kernels_config": {
    "python": {
     "delete_cmd_postfix": "",
     "delete_cmd_prefix": "del ",
     "library": "var_list.py",
     "varRefreshCmd": "print(var_dic_list())"
    },
    "r": {
     "delete_cmd_postfix": ") ",
     "delete_cmd_prefix": "rm(",
     "library": "var_list.r",
     "varRefreshCmd": "cat(var_dic_list()) "
    }
   },
   "types_to_exclude": [
    "module",
    "function",
    "builtin_function_or_method",
    "instance",
    "_Feature"
   ],
   "window_display": false
  }
 },
 "nbformat": 4,
 "nbformat_minor": 2
}
